{
 "cells": [
  {
   "cell_type": "markdown",
   "id": "6ce6ef09",
   "metadata": {},
   "source": [
    "# Python data structutrs:\n",
    "- string\n",
    "- list\n",
    "- tuple\n",
    "- set\n",
    "- dictionary"
   ]
  },
  {
   "cell_type": "markdown",
   "id": "2f19db34",
   "metadata": {},
   "source": [
    "# Strings"
   ]
  },
  {
   "cell_type": "code",
   "execution_count": 1,
   "id": "5163974f",
   "metadata": {},
   "outputs": [
    {
     "data": {
      "text/plain": [
       "str"
      ]
     },
     "execution_count": 1,
     "metadata": {},
     "output_type": "execute_result"
    }
   ],
   "source": [
    "type('I am khamir')"
   ]
  },
  {
   "cell_type": "code",
   "execution_count": 2,
   "id": "106b32c1",
   "metadata": {},
   "outputs": [],
   "source": [
    "s = 'I am khamir'"
   ]
  },
  {
   "cell_type": "code",
   "execution_count": 11,
   "id": "fcf796f2",
   "metadata": {},
   "outputs": [
    {
     "data": {
      "text/plain": [
       "('I', 'h', 'i', 'r')"
      ]
     },
     "execution_count": 11,
     "metadata": {},
     "output_type": "execute_result"
    }
   ],
   "source": [
    "s[0], s[6], s[9], s[-1]"
   ]
  },
  {
   "cell_type": "code",
   "execution_count": 7,
   "id": "ce922465",
   "metadata": {},
   "outputs": [
    {
     "data": {
      "text/plain": [
       "'I am'"
      ]
     },
     "execution_count": 7,
     "metadata": {},
     "output_type": "execute_result"
    }
   ],
   "source": [
    "s[0:4] # 0, 1, 2, 3"
   ]
  },
  {
   "cell_type": "code",
   "execution_count": 8,
   "id": "3e2c0d66",
   "metadata": {},
   "outputs": [
    {
     "data": {
      "text/plain": [
       "'I am'"
      ]
     },
     "execution_count": 8,
     "metadata": {},
     "output_type": "execute_result"
    }
   ],
   "source": [
    "s[:4]"
   ]
  },
  {
   "cell_type": "code",
   "execution_count": 10,
   "id": "610f05ce",
   "metadata": {},
   "outputs": [
    {
     "data": {
      "text/plain": [
       "'khamir'"
      ]
     },
     "execution_count": 10,
     "metadata": {},
     "output_type": "execute_result"
    }
   ],
   "source": [
    "s[5:] # 5, 6, ... end"
   ]
  },
  {
   "cell_type": "code",
   "execution_count": 13,
   "id": "acc418dd",
   "metadata": {},
   "outputs": [
    {
     "data": {
      "text/plain": [
       "('r', 'r')"
      ]
     },
     "execution_count": 13,
     "metadata": {},
     "output_type": "execute_result"
    }
   ],
   "source": [
    "s[-1], s[10]"
   ]
  },
  {
   "cell_type": "code",
   "execution_count": 14,
   "id": "6d813f5c",
   "metadata": {},
   "outputs": [
    {
     "data": {
      "text/plain": [
       "('r', 'i', 'm')"
      ]
     },
     "execution_count": 14,
     "metadata": {},
     "output_type": "execute_result"
    }
   ],
   "source": [
    "s[-1], s[-2], s[-3]"
   ]
  },
  {
   "cell_type": "code",
   "execution_count": 15,
   "id": "a1646a45",
   "metadata": {},
   "outputs": [
    {
     "data": {
      "text/plain": [
       "'I am khamir'"
      ]
     },
     "execution_count": 15,
     "metadata": {},
     "output_type": "execute_result"
    }
   ],
   "source": [
    "s[:]"
   ]
  },
  {
   "cell_type": "code",
   "execution_count": 17,
   "id": "5179066f",
   "metadata": {},
   "outputs": [
    {
     "data": {
      "text/plain": [
       "'I am kha'"
      ]
     },
     "execution_count": 17,
     "metadata": {},
     "output_type": "execute_result"
    }
   ],
   "source": [
    "s[0:-3]"
   ]
  },
  {
   "cell_type": "code",
   "execution_count": 19,
   "id": "390acf40",
   "metadata": {},
   "outputs": [
    {
     "name": "stdout",
     "output_type": "stream",
     "text": [
      "I am khamir\n"
     ]
    }
   ],
   "source": [
    "s1 = 'I am'\n",
    "s2 = 'khamir'\n",
    "\n",
    "s3 = s1 + ' ' + s2\n",
    "\n",
    "print(s3)"
   ]
  },
  {
   "cell_type": "code",
   "execution_count": 20,
   "id": "659fa1fe",
   "metadata": {},
   "outputs": [
    {
     "data": {
      "text/plain": [
       "11"
      ]
     },
     "execution_count": 20,
     "metadata": {},
     "output_type": "execute_result"
    }
   ],
   "source": [
    "len(s3)"
   ]
  },
  {
   "cell_type": "code",
   "execution_count": 22,
   "id": "17e6f02a",
   "metadata": {},
   "outputs": [
    {
     "data": {
      "text/plain": [
       "('r', 'r')"
      ]
     },
     "execution_count": 22,
     "metadata": {},
     "output_type": "execute_result"
    }
   ],
   "source": [
    "s[len(s)-1], s[-1]"
   ]
  },
  {
   "cell_type": "code",
   "execution_count": 23,
   "id": "0601b078",
   "metadata": {},
   "outputs": [
    {
     "data": {
      "text/plain": [
       "('i', 'i')"
      ]
     },
     "execution_count": 23,
     "metadata": {},
     "output_type": "execute_result"
    }
   ],
   "source": [
    "s[len(s)-2], s[-2]"
   ]
  },
  {
   "cell_type": "code",
   "execution_count": 24,
   "id": "5e2d0fca",
   "metadata": {},
   "outputs": [
    {
     "name": "stdout",
     "output_type": "stream",
     "text": [
      "s2s1\n"
     ]
    }
   ],
   "source": [
    "s1 = 's1'\n",
    "\n",
    "s2 = 's2'\n",
    "\n",
    "s2 += s1 # s2 = s2 + s1\n",
    "\n",
    "print(s2)"
   ]
  },
  {
   "cell_type": "code",
   "execution_count": 29,
   "id": "4b30d41e",
   "metadata": {},
   "outputs": [
    {
     "name": "stdout",
     "output_type": "stream",
     "text": [
      "KHAMIR\n",
      "khamir\n",
      "Khamir\n"
     ]
    }
   ],
   "source": [
    "l = 'khamir'\n",
    "print(l.upper())\n",
    "\n",
    "U = 'KHAMIR'\n",
    "print(U.lower())\n",
    "\n",
    "C = 'khaMIR'\n",
    "print(C.capitalize())"
   ]
  },
  {
   "cell_type": "code",
   "execution_count": 34,
   "id": "143d7a75",
   "metadata": {},
   "outputs": [
    {
     "name": "stdout",
     "output_type": "stream",
     "text": [
      "126\n",
      "1125\n"
     ]
    }
   ],
   "source": [
    "s = '125'\n",
    "print(1 + int(s))\n",
    "print(str(1) + s)"
   ]
  },
  {
   "cell_type": "code",
   "execution_count": 35,
   "id": "cf4e9ea1",
   "metadata": {},
   "outputs": [
    {
     "name": "stdout",
     "output_type": "stream",
     "text": [
      "9.869604401090658\n"
     ]
    }
   ],
   "source": [
    "p = '3.14159265359'\n",
    "print(float(p)**2)"
   ]
  },
  {
   "cell_type": "code",
   "execution_count": 1,
   "id": "21901202",
   "metadata": {},
   "outputs": [
    {
     "name": "stdout",
     "output_type": "stream",
     "text": [
      "14\n",
      "4\n",
      "0\n",
      "-1\n"
     ]
    }
   ],
   "source": [
    "s = 'My name is: khamir'\n",
    "\n",
    "print(s.find('amir'))\n",
    "print(s.find('am'))\n",
    "print(s.find('My'))\n",
    "print(s.find('Amir'))"
   ]
  },
  {
   "cell_type": "code",
   "execution_count": 4,
   "id": "5d21cfbd",
   "metadata": {},
   "outputs": [
    {
     "name": "stdout",
     "output_type": "stream",
     "text": [
      "14\n"
     ]
    }
   ],
   "source": [
    "if s.find('am') != -1:\n",
    "    end_of_am = s.find('am')+2\n",
    "    print(end_of_am + s[s.find('am')+2:].find('am'))"
   ]
  },
  {
   "cell_type": "code",
   "execution_count": 3,
   "id": "9643e74e",
   "metadata": {},
   "outputs": [
    {
     "data": {
      "text/plain": [
       "'e is: khamir'"
      ]
     },
     "execution_count": 3,
     "metadata": {},
     "output_type": "execute_result"
    }
   ],
   "source": [
    "s[s.find('am')+2:]"
   ]
  },
  {
   "cell_type": "code",
   "execution_count": 38,
   "id": "f0dd6236",
   "metadata": {},
   "outputs": [
    {
     "data": {
      "text/plain": [
       "'a'"
      ]
     },
     "execution_count": 38,
     "metadata": {},
     "output_type": "execute_result"
    }
   ],
   "source": [
    "s[14]"
   ]
  },
  {
   "cell_type": "code",
   "execution_count": 42,
   "id": "5c343dfa",
   "metadata": {},
   "outputs": [
    {
     "name": "stdout",
     "output_type": "stream",
     "text": [
      "My name is: Amir Hosein\n"
     ]
    }
   ],
   "source": [
    "s = 'My name is: khamir'\n",
    "\n",
    "print(s.replace('khamir', 'Amir Hosein'))"
   ]
  },
  {
   "cell_type": "code",
   "execution_count": 44,
   "id": "13870101",
   "metadata": {},
   "outputs": [
    {
     "name": "stdout",
     "output_type": "stream",
     "text": [
      "My name is khamir\n"
     ]
    }
   ],
   "source": [
    "print(s.replace(':', ''))"
   ]
  },
  {
   "cell_type": "code",
   "execution_count": 46,
   "id": "a7dc3c99",
   "metadata": {},
   "outputs": [
    {
     "name": "stdout",
     "output_type": "stream",
     "text": [
      "My name is khamir\n"
     ]
    }
   ],
   "source": [
    "s = s.replace(':', '')\n",
    "print(s)"
   ]
  },
  {
   "cell_type": "code",
   "execution_count": 28,
   "id": "b5746894",
   "metadata": {},
   "outputs": [
    {
     "name": "stdout",
     "output_type": "stream",
     "text": [
      "aminamini\n"
     ]
    }
   ],
   "source": [
    "S1 = 'amin'\n",
    "S2 = 'samsami'\n",
    "\n",
    "s3 = S2.replace('sam', 'amin')\n",
    "print(s3)"
   ]
  },
  {
   "cell_type": "code",
   "execution_count": 10,
   "id": "76acd70f",
   "metadata": {},
   "outputs": [
    {
     "name": "stdout",
     "output_type": "stream",
     "text": [
      "['Hello this', ' is Python class']\n"
     ]
    }
   ],
   "source": [
    "s = 'Hello this: is Python class'\n",
    "print(s.split(':'))\n"
   ]
  },
  {
   "cell_type": "code",
   "execution_count": 12,
   "id": "b02dd113",
   "metadata": {},
   "outputs": [
    {
     "data": {
      "text/plain": [
       "'amiramiramiramiramir'"
      ]
     },
     "execution_count": 12,
     "metadata": {},
     "output_type": "execute_result"
    }
   ],
   "source": [
    "'amir'*5"
   ]
  },
  {
   "cell_type": "code",
   "execution_count": 15,
   "id": "373936a0",
   "metadata": {},
   "outputs": [
    {
     "name": "stdout",
     "output_type": "stream",
     "text": [
      "defg\n",
      "abcd\n",
      "abfg\n"
     ]
    }
   ],
   "source": [
    "s = 'abcdefg'\n",
    "\n",
    "print(s.removeprefix('abc'))\n",
    "print(s.removesuffix('efg'))\n",
    "print(s.replace('cde', \"\"))"
   ]
  },
  {
   "cell_type": "markdown",
   "id": "1c65367a",
   "metadata": {},
   "source": [
    "# Lists"
   ]
  },
  {
   "cell_type": "code",
   "execution_count": 16,
   "id": "13aedaac",
   "metadata": {},
   "outputs": [],
   "source": [
    "l = [1, 2, 3.4, True, 'amir', 2+3j, [-1, -3, -5]]"
   ]
  },
  {
   "cell_type": "code",
   "execution_count": 20,
   "id": "7edacf87",
   "metadata": {},
   "outputs": [
    {
     "data": {
      "text/plain": [
       "'ir'"
      ]
     },
     "execution_count": 20,
     "metadata": {},
     "output_type": "execute_result"
    }
   ],
   "source": [
    "l[4][2:]"
   ]
  },
  {
   "cell_type": "code",
   "execution_count": 21,
   "id": "b00a817b",
   "metadata": {},
   "outputs": [
    {
     "data": {
      "text/plain": [
       "[True, 'amir', (2+3j), [-1, -3, -5]]"
      ]
     },
     "execution_count": 21,
     "metadata": {},
     "output_type": "execute_result"
    }
   ],
   "source": [
    "l[3:7]"
   ]
  },
  {
   "cell_type": "code",
   "execution_count": 22,
   "id": "ce79f835",
   "metadata": {},
   "outputs": [
    {
     "data": {
      "text/plain": [
       "7"
      ]
     },
     "execution_count": 22,
     "metadata": {},
     "output_type": "execute_result"
    }
   ],
   "source": [
    "len(l)"
   ]
  },
  {
   "cell_type": "code",
   "execution_count": 23,
   "id": "b84ed72e",
   "metadata": {},
   "outputs": [
    {
     "name": "stdout",
     "output_type": "stream",
     "text": [
      "[0, 1, 4, 9, 16, 25, 36, 49, 64, 81]\n"
     ]
    }
   ],
   "source": [
    "l = [i**2 for i in range(10)]\n",
    "print(l)"
   ]
  },
  {
   "cell_type": "code",
   "execution_count": 24,
   "id": "9442340a",
   "metadata": {},
   "outputs": [
    {
     "name": "stdout",
     "output_type": "stream",
     "text": [
      "[1]\n"
     ]
    }
   ],
   "source": [
    "l = []\n",
    "l.append(1)\n",
    "print(l)"
   ]
  },
  {
   "cell_type": "code",
   "execution_count": 26,
   "id": "5b6cf891",
   "metadata": {},
   "outputs": [
    {
     "name": "stdout",
     "output_type": "stream",
     "text": [
      "[0]\n",
      "[0, 1]\n",
      "[0, 1, 4]\n",
      "[0, 1, 4, 9]\n",
      "[0, 1, 4, 9, 16]\n",
      "[0, 1, 4, 9, 16, 25]\n",
      "[0, 1, 4, 9, 16, 25, 36]\n",
      "[0, 1, 4, 9, 16, 25, 36, 49]\n",
      "[0, 1, 4, 9, 16, 25, 36, 49, 64]\n",
      "[0, 1, 4, 9, 16, 25, 36, 49, 64, 81]\n",
      "[0, 1, 4, 9, 16, 25, 36, 49, 64, 81]\n"
     ]
    }
   ],
   "source": [
    "l = []\n",
    "\n",
    "for i in range(10):\n",
    "    l.append(i**2)\n",
    "    print(l)\n",
    "\n",
    "print(l)"
   ]
  },
  {
   "cell_type": "code",
   "execution_count": 28,
   "id": "4ad3512b",
   "metadata": {},
   "outputs": [],
   "source": [
    "l.append(100)"
   ]
  },
  {
   "cell_type": "code",
   "execution_count": 29,
   "id": "19d2b4ba",
   "metadata": {},
   "outputs": [
    {
     "data": {
      "text/plain": [
       "[0, 1, 4, 9, 16, 25, 36, 49, 64, 81, 100]"
      ]
     },
     "execution_count": 29,
     "metadata": {},
     "output_type": "execute_result"
    }
   ],
   "source": [
    "l"
   ]
  },
  {
   "cell_type": "code",
   "execution_count": 32,
   "id": "a726bdc3",
   "metadata": {},
   "outputs": [],
   "source": [
    "L1 = [1, 2, 3]\n",
    "L2 = L1.copy()\n",
    "L2[0] = -1\n"
   ]
  },
  {
   "cell_type": "code",
   "execution_count": 33,
   "id": "f1ab1cd2",
   "metadata": {},
   "outputs": [
    {
     "data": {
      "text/plain": [
       "1"
      ]
     },
     "execution_count": 33,
     "metadata": {},
     "output_type": "execute_result"
    }
   ],
   "source": [
    "L1[0]"
   ]
  },
  {
   "cell_type": "code",
   "execution_count": 39,
   "id": "60ec91cb",
   "metadata": {},
   "outputs": [
    {
     "name": "stdout",
     "output_type": "stream",
     "text": [
      "[1, 2, 3, 3, 4, 5]\n",
      "[1, 2, 3, 1, 2, 3]\n"
     ]
    }
   ],
   "source": [
    "print([1, 2, 3] + [3, 4, 5])\n",
    "print([1, 2, 3] * 2)"
   ]
  },
  {
   "cell_type": "code",
   "execution_count": 42,
   "id": "a8015811",
   "metadata": {},
   "outputs": [
    {
     "name": "stdout",
     "output_type": "stream",
     "text": [
      "[1, 2, 3, 4, 5]\n",
      "[]\n"
     ]
    }
   ],
   "source": [
    "L = [1, 2, 3, 4, 5]\n",
    "print(L)\n",
    "L.clear()\n",
    "print(L)"
   ]
  },
  {
   "cell_type": "code",
   "execution_count": 47,
   "id": "cf69218c",
   "metadata": {},
   "outputs": [
    {
     "name": "stdout",
     "output_type": "stream",
     "text": [
      "[1, 2, 3, 4, 5]\n",
      "[5, 4, 3, 2, 1]\n",
      "1\n",
      "[5, 4, 3, 2]\n",
      "[2, 3, 4, 5]\n",
      "[5, 4, 3, 2]\n",
      "[2, 3, 4, 5]\n"
     ]
    }
   ],
   "source": [
    "L = [1, 2, 3, 4, 5]\n",
    "print(L)\n",
    "L.reverse()\n",
    "print(L)\n",
    "print(L.pop())\n",
    "print(L)\n",
    "print(sorted(L))\n",
    "print(L)\n",
    "L.sort()\n",
    "print(L)"
   ]
  },
  {
   "cell_type": "code",
   "execution_count": 48,
   "id": "c3c0f8c0",
   "metadata": {},
   "outputs": [
    {
     "ename": "TypeError",
     "evalue": "list.clear() takes no arguments (1 given)",
     "output_type": "error",
     "traceback": [
      "\u001b[0;31m---------------------------------------------------------------------------\u001b[0m",
      "\u001b[0;31mTypeError\u001b[0m                                 Traceback (most recent call last)",
      "Input \u001b[0;32mIn [48]\u001b[0m, in \u001b[0;36m<module>\u001b[0;34m\u001b[0m\n\u001b[0;32m----> 1\u001b[0m \u001b[43mL\u001b[49m\u001b[38;5;241;43m.\u001b[39;49m\u001b[43mclear\u001b[49m\u001b[43m(\u001b[49m\u001b[43mL\u001b[49m\u001b[43m[\u001b[49m\u001b[38;5;241;43m-\u001b[39;49m\u001b[38;5;241;43m1\u001b[39;49m\u001b[43m]\u001b[49m\u001b[43m)\u001b[49m\n",
      "\u001b[0;31mTypeError\u001b[0m: list.clear() takes no arguments (1 given)"
     ]
    }
   ],
   "source": [
    "L.clear(L[-1])"
   ]
  },
  {
   "cell_type": "code",
   "execution_count": 50,
   "id": "329670b8",
   "metadata": {},
   "outputs": [
    {
     "name": "stdout",
     "output_type": "stream",
     "text": [
      "[2, 3, 4, 5]\n",
      "[2, 3, 4, 5, 6]\n"
     ]
    }
   ],
   "source": [
    "print(L)\n",
    "L.append(6)\n",
    "print(L)"
   ]
  },
  {
   "cell_type": "code",
   "execution_count": 51,
   "id": "c2eb1e17",
   "metadata": {},
   "outputs": [
    {
     "name": "stdout",
     "output_type": "stream",
     "text": [
      "[2, 3, 4, 5, 6]\n",
      "[7, 2, 3, 4, 5, 6]\n"
     ]
    }
   ],
   "source": [
    "print(L)\n",
    "L.insert(0, 7)\n",
    "print(L)"
   ]
  },
  {
   "cell_type": "code",
   "execution_count": 52,
   "id": "4749b59e",
   "metadata": {},
   "outputs": [
    {
     "data": {
      "text/plain": [
       "0"
      ]
     },
     "execution_count": 52,
     "metadata": {},
     "output_type": "execute_result"
    }
   ],
   "source": [
    "L.index(7)"
   ]
  },
  {
   "cell_type": "code",
   "execution_count": 53,
   "id": "b7f6cb99",
   "metadata": {},
   "outputs": [
    {
     "name": "stdout",
     "output_type": "stream",
     "text": [
      "[7, 2, 4, 5, 6]\n"
     ]
    }
   ],
   "source": [
    "L.remove(3)\n",
    "print(L)"
   ]
  },
  {
   "cell_type": "code",
   "execution_count": 54,
   "id": "2a9e78cb",
   "metadata": {},
   "outputs": [
    {
     "name": "stdout",
     "output_type": "stream",
     "text": [
      "[1, 3, 1, 3]\n",
      "[1, 1, 3]\n"
     ]
    }
   ],
   "source": [
    "L = [1, 3, 1, 3]\n",
    "print(L)\n",
    "L.remove(3)\n",
    "print(L)"
   ]
  },
  {
   "cell_type": "markdown",
   "id": "4b724ac8",
   "metadata": {},
   "source": [
    "# Tuples"
   ]
  },
  {
   "cell_type": "code",
   "execution_count": 55,
   "id": "ec459718",
   "metadata": {},
   "outputs": [],
   "source": [
    "T = (1, 2, 3, 4, 5)"
   ]
  },
  {
   "cell_type": "code",
   "execution_count": 58,
   "id": "86cad6ec",
   "metadata": {},
   "outputs": [
    {
     "data": {
      "text/plain": [
       "(1, (4, 5), 5)"
      ]
     },
     "execution_count": 58,
     "metadata": {},
     "output_type": "execute_result"
    }
   ],
   "source": [
    "T[0], T[3:], len(T)"
   ]
  },
  {
   "cell_type": "code",
   "execution_count": 59,
   "id": "a8e1c95c",
   "metadata": {},
   "outputs": [
    {
     "ename": "TypeError",
     "evalue": "'tuple' object does not support item assignment",
     "output_type": "error",
     "traceback": [
      "\u001b[0;31m---------------------------------------------------------------------------\u001b[0m",
      "\u001b[0;31mTypeError\u001b[0m                                 Traceback (most recent call last)",
      "Input \u001b[0;32mIn [59]\u001b[0m, in \u001b[0;36m<module>\u001b[0;34m\u001b[0m\n\u001b[0;32m----> 1\u001b[0m T[\u001b[38;5;241m0\u001b[39m] \u001b[38;5;241m=\u001b[39m \u001b[38;5;241m-\u001b[39m\u001b[38;5;241m1\u001b[39m\n",
      "\u001b[0;31mTypeError\u001b[0m: 'tuple' object does not support item assignment"
     ]
    }
   ],
   "source": [
    "T[0] = -1"
   ]
  },
  {
   "cell_type": "markdown",
   "id": "1b2fc814",
   "metadata": {},
   "source": [
    "# Set"
   ]
  },
  {
   "cell_type": "code",
   "execution_count": 1,
   "id": "6bb52860",
   "metadata": {},
   "outputs": [
    {
     "name": "stdout",
     "output_type": "stream",
     "text": [
      "{1, 2, 3, 5, 7}\n"
     ]
    }
   ],
   "source": [
    "s = {1, 2, 3, 3, 5, 7}\n",
    "print(s)"
   ]
  },
  {
   "cell_type": "code",
   "execution_count": 2,
   "id": "6a497a71",
   "metadata": {},
   "outputs": [],
   "source": [
    "s1 = {1, 2, 3, 4, 5}\n",
    "s2 = {4, 5, 6, 7, 8}"
   ]
  },
  {
   "cell_type": "code",
   "execution_count": 3,
   "id": "77cce09e",
   "metadata": {},
   "outputs": [
    {
     "data": {
      "text/plain": [
       "{1, 2, 3, 4, 5, 6, 7, 8}"
      ]
     },
     "execution_count": 3,
     "metadata": {},
     "output_type": "execute_result"
    }
   ],
   "source": [
    "s1.union(s2)"
   ]
  },
  {
   "cell_type": "code",
   "execution_count": 4,
   "id": "4670422d",
   "metadata": {},
   "outputs": [
    {
     "data": {
      "text/plain": [
       "{4, 5}"
      ]
     },
     "execution_count": 4,
     "metadata": {},
     "output_type": "execute_result"
    }
   ],
   "source": [
    "s1.intersection(s2)"
   ]
  },
  {
   "cell_type": "code",
   "execution_count": 5,
   "id": "a3c10f7e",
   "metadata": {},
   "outputs": [],
   "source": [
    "s3 = s1.union(s2)"
   ]
  },
  {
   "cell_type": "code",
   "execution_count": 7,
   "id": "5f1950ad",
   "metadata": {},
   "outputs": [
    {
     "name": "stdout",
     "output_type": "stream",
     "text": [
      "{1, 2, 3, 4, 5, 6, 7, 8, 9}\n"
     ]
    }
   ],
   "source": [
    "s3.add(9)\n",
    "print(s3)"
   ]
  },
  {
   "cell_type": "code",
   "execution_count": 11,
   "id": "e2babaf3",
   "metadata": {},
   "outputs": [
    {
     "name": "stdout",
     "output_type": "stream",
     "text": [
      "{2, 3, 4, 5, 6, 7, 8, 9}\n"
     ]
    }
   ],
   "source": [
    "s3.remove(1)\n",
    "print(s3)"
   ]
  },
  {
   "cell_type": "code",
   "execution_count": 8,
   "id": "46389ac4",
   "metadata": {},
   "outputs": [
    {
     "name": "stdout",
     "output_type": "stream",
     "text": [
      "{'Hadian', 'Amir', 'Khamir', 'amir'}\n"
     ]
    }
   ],
   "source": [
    "ss = {'amir', 'Amir', 'Khamir', 'Hadian'}\n",
    "print(ss)"
   ]
  },
  {
   "cell_type": "code",
   "execution_count": 10,
   "id": "c252225d",
   "metadata": {},
   "outputs": [
    {
     "ename": "TypeError",
     "evalue": "unhashable type: 'dict'",
     "output_type": "error",
     "traceback": [
      "\u001b[0;31m---------------------------------------------------------------------------\u001b[0m",
      "\u001b[0;31mTypeError\u001b[0m                                 Traceback (most recent call last)",
      "Input \u001b[0;32mIn [10]\u001b[0m, in \u001b[0;36m<module>\u001b[0;34m\u001b[0m\n\u001b[0;32m----> 1\u001b[0m ss2 \u001b[38;5;241m=\u001b[39m {{}}\n",
      "\u001b[0;31mTypeError\u001b[0m: unhashable type: 'dict'"
     ]
    }
   ],
   "source": [
    "ss2 = {{}} # "
   ]
  },
  {
   "cell_type": "code",
   "execution_count": 12,
   "id": "8b8f9519",
   "metadata": {},
   "outputs": [
    {
     "data": {
      "text/plain": [
       "True"
      ]
     },
     "execution_count": 12,
     "metadata": {},
     "output_type": "execute_result"
    }
   ],
   "source": [
    "5 in s3 "
   ]
  },
  {
   "cell_type": "code",
   "execution_count": 13,
   "id": "d060ddd7",
   "metadata": {},
   "outputs": [
    {
     "data": {
      "text/plain": [
       "False"
      ]
     },
     "execution_count": 13,
     "metadata": {},
     "output_type": "execute_result"
    }
   ],
   "source": [
    "1 in s3"
   ]
  },
  {
   "cell_type": "code",
   "execution_count": 14,
   "id": "5ab539f4",
   "metadata": {},
   "outputs": [
    {
     "data": {
      "text/plain": [
       "True"
      ]
     },
     "execution_count": 14,
     "metadata": {},
     "output_type": "execute_result"
    }
   ],
   "source": [
    "1 in [1, 2, 3]"
   ]
  },
  {
   "cell_type": "code",
   "execution_count": 16,
   "id": "15d36d1e",
   "metadata": {},
   "outputs": [
    {
     "data": {
      "text/plain": [
       "True"
      ]
     },
     "execution_count": 16,
     "metadata": {},
     "output_type": "execute_result"
    }
   ],
   "source": [
    "3 in (1, 2, 3)"
   ]
  },
  {
   "cell_type": "code",
   "execution_count": 15,
   "id": "ea28d05b",
   "metadata": {},
   "outputs": [
    {
     "data": {
      "text/plain": [
       "True"
      ]
     },
     "execution_count": 15,
     "metadata": {},
     "output_type": "execute_result"
    }
   ],
   "source": [
    "'amir' in 'Khamir'"
   ]
  },
  {
   "cell_type": "code",
   "execution_count": 20,
   "id": "1eed1725",
   "metadata": {},
   "outputs": [
    {
     "data": {
      "text/plain": [
       "True"
      ]
     },
     "execution_count": 20,
     "metadata": {},
     "output_type": "execute_result"
    }
   ],
   "source": [
    "{1, 2}.issubset({1, 2, 3})"
   ]
  },
  {
   "cell_type": "markdown",
   "id": "b24b1e7d",
   "metadata": {},
   "source": [
    "# Dictionary"
   ]
  },
  {
   "cell_type": "code",
   "execution_count": 21,
   "id": "975fff91",
   "metadata": {},
   "outputs": [],
   "source": [
    "dic = {'k1': 'v1',\n",
    "       'k2': 'v2',\n",
    "       'k3': 'v3'}"
   ]
  },
  {
   "cell_type": "code",
   "execution_count": 23,
   "id": "c076b964",
   "metadata": {},
   "outputs": [
    {
     "data": {
      "text/plain": [
       "'v2'"
      ]
     },
     "execution_count": 23,
     "metadata": {},
     "output_type": "execute_result"
    }
   ],
   "source": [
    "dic['k2']"
   ]
  },
  {
   "cell_type": "code",
   "execution_count": 24,
   "id": "32eebea5",
   "metadata": {},
   "outputs": [],
   "source": [
    "data = {'f1': [1, 2, 3, 4],\n",
    "        'f2': [-1, -2, -3, -4],\n",
    "        'f3': [10, 20, 10, 20]}"
   ]
  },
  {
   "cell_type": "code",
   "execution_count": 25,
   "id": "3b074406",
   "metadata": {},
   "outputs": [
    {
     "data": {
      "text/plain": [
       "[1, 2, 3, 4]"
      ]
     },
     "execution_count": 25,
     "metadata": {},
     "output_type": "execute_result"
    }
   ],
   "source": [
    "data['f1']"
   ]
  },
  {
   "cell_type": "code",
   "execution_count": 26,
   "id": "696ce06c",
   "metadata": {},
   "outputs": [],
   "source": [
    "dic = {'k1': 100,\n",
    "       'k2': 'v2',\n",
    "       'k3': [1, 2, 3, 4],\n",
    "       'k4': 3.14}"
   ]
  },
  {
   "cell_type": "code",
   "execution_count": 27,
   "id": "55563a47",
   "metadata": {},
   "outputs": [
    {
     "data": {
      "text/plain": [
       "{'k1': 100, 'k2': 'v2', 'k3': [1, 2, 3, 4], 'k4': 3.14}"
      ]
     },
     "execution_count": 27,
     "metadata": {},
     "output_type": "execute_result"
    }
   ],
   "source": [
    "dic"
   ]
  },
  {
   "cell_type": "code",
   "execution_count": 28,
   "id": "432d338e",
   "metadata": {},
   "outputs": [
    {
     "name": "stdout",
     "output_type": "stream",
     "text": [
      "{'a': [1, 5, 7], 'b': 'amir'}\n"
     ]
    }
   ],
   "source": [
    "a = [1, 5, 7]\n",
    "b = 'amir'\n",
    "\n",
    "dic = {'a': a,\n",
    "       'b': b}\n",
    "\n",
    "print(dic)"
   ]
  },
  {
   "cell_type": "code",
   "execution_count": 29,
   "id": "19fbf70b",
   "metadata": {},
   "outputs": [],
   "source": [
    "dic = {'k1': 100,\n",
    "       'k2': 'v2',\n",
    "       'k3': [1, 2, 3, 4],\n",
    "       'k4': 3.14}"
   ]
  },
  {
   "cell_type": "code",
   "execution_count": 30,
   "id": "7c1b5084",
   "metadata": {},
   "outputs": [
    {
     "data": {
      "text/plain": [
       "dict_keys(['k1', 'k2', 'k3', 'k4'])"
      ]
     },
     "execution_count": 30,
     "metadata": {},
     "output_type": "execute_result"
    }
   ],
   "source": [
    "dic.keys()"
   ]
  },
  {
   "cell_type": "code",
   "execution_count": 31,
   "id": "8409071b",
   "metadata": {},
   "outputs": [
    {
     "name": "stdout",
     "output_type": "stream",
     "text": [
      "k1 100\n",
      "k2 v2\n",
      "k3 [1, 2, 3, 4]\n",
      "k4 3.14\n"
     ]
    }
   ],
   "source": [
    "for k in dic.keys():\n",
    "    print(k, dic[k])"
   ]
  },
  {
   "cell_type": "code",
   "execution_count": 32,
   "id": "6f32c3d0",
   "metadata": {},
   "outputs": [
    {
     "data": {
      "text/plain": [
       "dict_values([100, 'v2', [1, 2, 3, 4], 3.14])"
      ]
     },
     "execution_count": 32,
     "metadata": {},
     "output_type": "execute_result"
    }
   ],
   "source": [
    "dic.values()"
   ]
  },
  {
   "cell_type": "code",
   "execution_count": 34,
   "id": "55318c04",
   "metadata": {},
   "outputs": [
    {
     "name": "stdout",
     "output_type": "stream",
     "text": [
      "enter your name:amir\n",
      "enter your age:26\n",
      "enter your name:mohadesseh\n",
      "enter your age:30\n",
      "enter your name:Amir\n",
      "enter your age:41\n",
      "enter your name:Naiemeh\n",
      "enter your age:29\n",
      "enter your name:Arefe\n",
      "enter your age:24\n",
      "enter your name:end\n"
     ]
    }
   ],
   "source": [
    "data = {}\n",
    "\n",
    "name = input('enter your name:')\n",
    "\n",
    "while name != 'end':\n",
    "    data[name] = int(input('enter your age:'))\n",
    "    name = input('enter your name:')\n"
   ]
  },
  {
   "cell_type": "code",
   "execution_count": 37,
   "id": "b92d1a25",
   "metadata": {},
   "outputs": [
    {
     "name": "stdout",
     "output_type": "stream",
     "text": [
      "amir 26\n",
      "mohadesseh 30\n",
      "Amir 41\n",
      "Naiemeh 29\n",
      "Arefe 24\n"
     ]
    }
   ],
   "source": [
    "for k in data.keys():\n",
    "    print(k, data[k])"
   ]
  },
  {
   "cell_type": "code",
   "execution_count": null,
   "id": "ee039297",
   "metadata": {},
   "outputs": [],
   "source": []
  }
 ],
 "metadata": {
  "kernelspec": {
   "display_name": "Python 3 (ipykernel)",
   "language": "python",
   "name": "python3"
  },
  "language_info": {
   "codemirror_mode": {
    "name": "ipython",
    "version": 3
   },
   "file_extension": ".py",
   "mimetype": "text/x-python",
   "name": "python",
   "nbconvert_exporter": "python",
   "pygments_lexer": "ipython3",
   "version": "3.9.5"
  }
 },
 "nbformat": 4,
 "nbformat_minor": 5
}
